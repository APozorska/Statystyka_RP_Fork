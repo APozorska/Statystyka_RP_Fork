{
 "cells": [
  {
   "cell_type": "markdown",
   "id": "5cb718f4-e33f-4da9-8e76-3ad148608e9b",
   "metadata": {},
   "source": [
    "### 5. Wykres punktowy"
   ]
  },
  {
   "cell_type": "markdown",
   "id": "2b4fbb79-b2c3-4a4a-979e-0d1f783e0845",
   "metadata": {},
   "source": [
    "Tło: \\\n",
    "W pliku `stock_prices.csv` znajdują się ceny zamknięcia akcji Apple, Alphabet Inc. (Google) oraz Bank of America w różnych dniach na przestrzeni 6 miesięcy.\n",
    "\n",
    "Zadanie 1: \\\n",
    "Utwórz wykres punktowy przedstawiający ceny akcji Apple i Alphabet.\n",
    "\n",
    "Zadanie 2: \\\n",
    "Utwórz wykres punktowy przedstawiający ceny akcji Apple i Bank of America.\n",
    "\n",
    "Zadanie 3: \\\n",
    "Zbadaj, czy istnieje zależność między tymi zmiennymi."
   ]
  }
 ],
 "metadata": {
  "kernelspec": {
   "display_name": "Python 3 (ipykernel)",
   "language": "python",
   "name": "python3"
  },
  "language_info": {
   "codemirror_mode": {
    "name": "ipython",
    "version": 3
   },
   "file_extension": ".py",
   "mimetype": "text/x-python",
   "name": "python",
   "nbconvert_exporter": "python",
   "pygments_lexer": "ipython3",
   "version": "3.12.4"
  }
 },
 "nbformat": 4,
 "nbformat_minor": 5
}
