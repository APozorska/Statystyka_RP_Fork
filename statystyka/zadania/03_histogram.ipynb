{
 "cells": [
  {
   "cell_type": "markdown",
   "id": "fd65aebd-87b5-4dbb-b141-10b8eda0e912",
   "metadata": {},
   "source": [
    "### 3. Histogram"
   ]
  },
  {
   "cell_type": "markdown",
   "id": "e093c618-4d5d-4514-8a97-22635a0cf923",
   "metadata": {},
   "source": [
    "Tło: \\\n",
    "Dysponujesz zestawem danych.\n",
    "\n",
    "Zadanie 1: \\\n",
    "Skonstruuj tabelę rozkładu częstości.\n",
    "\n",
    "Zadanie 2: \\\n",
    "Utwórz histogram z 10 przedziałami, oparty na tym zestawie danych."
   ]
  },
  {
   "cell_type": "code",
   "execution_count": 2,
   "id": "ec8011ab-2df9-40d1-8cb0-d4b911dd8d18",
   "metadata": {},
   "outputs": [],
   "source": [
    "data = [\n",
    "    13,\n",
    "    68,\n",
    "    165,\n",
    "    193,\n",
    "    216,\n",
    "    228,\n",
    "    361,\n",
    "    470,\n",
    "    500,\n",
    "    529,\n",
    "    544,\n",
    "    602,\n",
    "    647,\n",
    "    692,\n",
    "    696,\n",
    "    699,\n",
    "    809,\n",
    "    892,\n",
    "    899,\n",
    "    936,\n",
    "]"
   ]
  }
 ],
 "metadata": {
  "kernelspec": {
   "display_name": "Python 3 (ipykernel)",
   "language": "python",
   "name": "python3"
  },
  "language_info": {
   "codemirror_mode": {
    "name": "ipython",
    "version": 3
   },
   "file_extension": ".py",
   "mimetype": "text/x-python",
   "name": "python",
   "nbconvert_exporter": "python",
   "pygments_lexer": "ipython3",
   "version": "3.12.4"
  }
 },
 "nbformat": 4,
 "nbformat_minor": 5
}
