{
 "cells": [
  {
   "cell_type": "markdown",
   "id": "41eb3218-62aa-4505-8de4-4f4309969ff7",
   "metadata": {},
   "source": [
    "### 8. Wariancja"
   ]
  },
  {
   "attachments": {},
   "cell_type": "markdown",
   "id": "45f9f8da-a71d-472e-9ecf-de4f7b2877ea",
   "metadata": {},
   "source": [
    "Tło: \\\n",
    "Dysponujesz danymi z rocznymi dochodami 11 osób z USA. Masz także średni dochód z zadania na temat średniej, mediany i dominującej wartości.\n",
    "\n",
    "Zadanie 1: \\\n",
    "Zdecyduj, czy powinieneś użyć wzoru dla próby, czy dla populacji do obliczenia wariancji.\n",
    "\n",
    "Zadanie 2: \\\n",
    "Oblicz wariancję ich dochodów.\n",
    "\n",
    "Zadanie 3: \\\n",
    "Ogólnie, co mówi ci ta liczba?"
   ]
  },
  {
   "cell_type": "code",
   "execution_count": 1,
   "id": "a4e99326-8428-41d3-82b0-9e9521e1e8a1",
   "metadata": {},
   "outputs": [],
   "source": [
    "data = [\n",
    "    62000,\n",
    "    64000,\n",
    "    49000,\n",
    "    324000,\n",
    "    1264000,\n",
    "    54330,\n",
    "    64000,\n",
    "    51000,\n",
    "    55000,\n",
    "    48000,\n",
    "    53000,\n",
    "]"
   ]
  }
 ],
 "metadata": {
  "kernelspec": {
   "display_name": "Python 3 (ipykernel)",
   "language": "python",
   "name": "python3"
  },
  "language_info": {
   "codemirror_mode": {
    "name": "ipython",
    "version": 3
   },
   "file_extension": ".py",
   "mimetype": "text/x-python",
   "name": "python",
   "nbconvert_exporter": "python",
   "pygments_lexer": "ipython3",
   "version": "3.12.4"
  }
 },
 "nbformat": 4,
 "nbformat_minor": 5
}
