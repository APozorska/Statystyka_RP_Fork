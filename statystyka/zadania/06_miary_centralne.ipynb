{
 "cells": [
  {
   "cell_type": "markdown",
   "id": "5f4b726c-4bd5-4862-a794-15e692c26153",
   "metadata": {},
   "source": [
    "### 6. Miary centralne"
   ]
  },
  {
   "cell_type": "markdown",
   "id": "320ef8c7-3cb1-44b1-aef1-695ea172823b",
   "metadata": {},
   "source": [
    "Tło: \\\n",
    "Dysponujesz próbką 11 osób i ich rocznymi dochodami.\n",
    "\n",
    "Zadanie 1: \\\n",
    "Oblicz średnią, medianę i dominującą wartość.\n",
    "\n",
    "Zadanie 2: \\\n",
    "Spróbuj zinterpretować uzyskane liczby."
   ]
  },
  {
   "cell_type": "code",
   "execution_count": 3,
   "id": "758f2416-a6fc-4466-a403-301119cab230",
   "metadata": {},
   "outputs": [],
   "source": [
    "data = [\n",
    "    62000,\n",
    "    64000,\n",
    "    49000,\n",
    "    324000,\n",
    "    1264000,\n",
    "    54330,\n",
    "    64000,\n",
    "    51000, \n",
    "    55000,\n",
    "    48000,\n",
    "    53000,\n",
    "]"
   ]
  }
 ],
 "metadata": {
  "kernelspec": {
   "display_name": "Python 3 (ipykernel)",
   "language": "python",
   "name": "python3"
  },
  "language_info": {
   "codemirror_mode": {
    "name": "ipython",
    "version": 3
   },
   "file_extension": ".py",
   "mimetype": "text/x-python",
   "name": "python",
   "nbconvert_exporter": "python",
   "pygments_lexer": "ipython3",
   "version": "3.12.4"
  }
 },
 "nbformat": 4,
 "nbformat_minor": 5
}
