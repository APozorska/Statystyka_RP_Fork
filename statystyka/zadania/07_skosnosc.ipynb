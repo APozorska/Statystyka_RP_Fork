{
 "cells": [
  {
   "cell_type": "markdown",
   "id": "235296fa-c228-4fa0-9e85-93f55f87ee55",
   "metadata": {},
   "source": [
    "### 7. Skośność"
   ]
  },
  {
   "cell_type": "markdown",
   "id": "f44f1e2d-5c4e-4c57-88ac-38488d290746",
   "metadata": {},
   "source": [
    "Tło: \\\n",
    "Dysponujesz dwoma zbiorami danych.\n",
    "\n",
    "Zadanie 1: \\\n",
    "Zidentyfikuj asymetrię w zbiorze danych 1. Możesz użyć wzoru, gotowego narzędzi lub wykresu.\n",
    "\n",
    "Zadanie 2: \\\n",
    "Zidentyfikuj asymetrię w zbiorze danych 2. Możesz użyć wzoru, gotowego narzędzia lub wykresu."
   ]
  },
  {
   "cell_type": "code",
   "execution_count": 1,
   "id": "21e33130-d9d3-4133-9200-60759da09355",
   "metadata": {},
   "outputs": [],
   "source": [
    "data1 = [\n",
    "    212,\n",
    "    869,\n",
    "    220,\n",
    "    654,\n",
    "    511,\n",
    "    624,\n",
    "    420,\n",
    "    121,\n",
    "    428,\n",
    "    865,\n",
    "    799,\n",
    "    405,\n",
    "    230,\n",
    "    670,\n",
    "    870,\n",
    "    366,\n",
    "    99,\n",
    "    55,\n",
    "    489,\n",
    "    312,\n",
    "    493,\n",
    "    163,\n",
    "    221,\n",
    "    84,\n",
    "    144,\n",
    "    48,\n",
    "    375,\n",
    "    86,\n",
    "    168,\n",
    "    100,\n",
    "]"
   ]
  },
  {
   "cell_type": "code",
   "execution_count": 2,
   "id": "24caa9b5-e126-4658-9bc5-ab196864df96",
   "metadata": {},
   "outputs": [],
   "source": [
    "data2 = [\n",
    "    586,\n",
    "    760,\n",
    "    495,\n",
    "    678,\n",
    "    559,\n",
    "    415,\n",
    "    370,\n",
    "    659,\n",
    "    119,\n",
    "    288,\n",
    "    241,\n",
    "    787,\n",
    "    522,\n",
    "    207,\n",
    "    160,\n",
    "    526,\n",
    "    656,\n",
    "    848,\n",
    "    720,\n",
    "    676,\n",
    "    581,\n",
    "    929,\n",
    "    653,\n",
    "    661,\n",
    "    770,\n",
    "    800,\n",
    "    529,\n",
    "    975,\n",
    "    995,\n",
    "    947,\n",
    "]"
   ]
  }
 ],
 "metadata": {
  "kernelspec": {
   "display_name": "Python 3 (ipykernel)",
   "language": "python",
   "name": "python3"
  },
  "language_info": {
   "codemirror_mode": {
    "name": "ipython",
    "version": 3
   },
   "file_extension": ".py",
   "mimetype": "text/x-python",
   "name": "python",
   "nbconvert_exporter": "python",
   "pygments_lexer": "ipython3",
   "version": "3.12.4"
  }
 },
 "nbformat": 4,
 "nbformat_minor": 5
}
