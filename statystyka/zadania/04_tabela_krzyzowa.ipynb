{
 "cells": [
  {
   "cell_type": "markdown",
   "id": "56b7c216-31a6-4d9c-8033-46abfa287f6a",
   "metadata": {},
   "source": [
    "### 4. Tabela krzyżowa"
   ]
  },
  {
   "cell_type": "markdown",
   "id": "4346cf16-92a2-4ffa-bdde-e20ed5d413b7",
   "metadata": {},
   "source": [
    "Tło: \\\n",
    "Dysponujesz danymi dotyczącymi zatrudnienia w kraju X. Poproszono Cię o przygotowanie tabeli krzyżowej, która przedstawi te dane.\n",
    "\n",
    "60% osób w wieku od 18 do 25 lat jest zatrudnionych\\\n",
    "85% osób w wieku od 25 do 35 lat jest zatrudnionych\\\n",
    "5% osób w wieku od 35 do 45 lat jest bezrobotnych\\\n",
    "3% osób w wieku od 45 do 55 lat jest bezrobotnych\\\n",
    "3% osób w wieku od 55 do 65 lat jest bezrobotnych\\\n",
    "Wszyscy powyżej 65. roku życia są zatrudnieni.\n",
    "\n",
    "Uwaga: \\\n",
    "Definicja bezrobotnych to osoby bez pracy, ale aktywnie jej poszukujące. To dlatego wszyscy powyżej 65. roku życia są zatrudnieni.\n",
    "\n",
    "Zadanie 1: \\\n",
    "Utwórz tabelę krzyżową podsumowującą przedstawione dane.\n",
    "\n",
    "Zadanie 2: \\\n",
    "Utwórz wykres słupkowy side-by-side, aby wizualnie wzmocnić swoje podsumowanie."
   ]
  }
 ],
 "metadata": {
  "kernelspec": {
   "display_name": "Python 3 (ipykernel)",
   "language": "python",
   "name": "python3"
  },
  "language_info": {
   "codemirror_mode": {
    "name": "ipython",
    "version": 3
   },
   "file_extension": ".py",
   "mimetype": "text/x-python",
   "name": "python",
   "nbconvert_exporter": "python",
   "pygments_lexer": "ipython3",
   "version": "3.12.4"
  }
 },
 "nbformat": 4,
 "nbformat_minor": 5
}
