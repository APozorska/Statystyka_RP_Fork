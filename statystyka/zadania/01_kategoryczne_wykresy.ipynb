{
 "cells": [
  {
   "cell_type": "markdown",
   "id": "bce72820-563b-494b-bb6e-f9ea3f0a3a8e",
   "metadata": {},
   "source": [
    "### 1. Dane kategoryczne - wizualizjca"
   ]
  },
  {
   "cell_type": "markdown",
   "id": "1d8a8824-c486-4a90-9111-d2ec8d00a14b",
   "metadata": {},
   "source": [
    "Tło: \\\n",
    "Posiadasz dane z lodziarni, która działa w Warszawie, Krakowie i Gdańsku.\n",
    "\n",
    "Dane: \\\n",
    "W Warszawie sprzedano 12 327 lodów w Krakowie 17 129, a w Gdańsku 19 923.\n",
    "\n",
    "Zadanie: \\\n",
    "Zaprezentuj dane w postaci tabeli rozkładu częstości, wykresie słupkowym, wykresie kołowym, digramie Pareto."
   ]
  },
  {
   "cell_type": "code",
   "execution_count": 1,
   "id": "049d7490-e367-4de6-9303-489564c8c003",
   "metadata": {},
   "outputs": [],
   "source": [
    "# Tabela rozkładu częstości"
   ]
  },
  {
   "cell_type": "code",
   "execution_count": 2,
   "id": "7bee31f1-3c4f-4911-bd29-f437435a08a7",
   "metadata": {},
   "outputs": [],
   "source": [
    "# Wykres słupkowy"
   ]
  },
  {
   "cell_type": "code",
   "execution_count": 3,
   "id": "926aa6ab-a535-4a68-a20d-8d5d1527a7da",
   "metadata": {},
   "outputs": [],
   "source": [
    "# Wykres kołowy"
   ]
  },
  {
   "cell_type": "code",
   "execution_count": 4,
   "id": "f0d5bf8c-beb9-4c69-b65c-91cc838d48ef",
   "metadata": {},
   "outputs": [],
   "source": [
    "# Diagram Pareto"
   ]
  }
 ],
 "metadata": {
  "kernelspec": {
   "display_name": "Python 3 (ipykernel)",
   "language": "python",
   "name": "python3"
  },
  "language_info": {
   "codemirror_mode": {
    "name": "ipython",
    "version": 3
   },
   "file_extension": ".py",
   "mimetype": "text/x-python",
   "name": "python",
   "nbconvert_exporter": "python",
   "pygments_lexer": "ipython3",
   "version": "3.12.4"
  }
 },
 "nbformat": 4,
 "nbformat_minor": 5
}
