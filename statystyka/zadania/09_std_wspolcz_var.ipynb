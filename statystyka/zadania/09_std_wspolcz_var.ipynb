{
 "cells": [
  {
   "cell_type": "markdown",
   "id": "04aae0cd-bffc-4cf1-ba30-76aa6003582f",
   "metadata": {},
   "source": [
    "### 09. Odchylenie standardowe i współczynnik wariancji"
   ]
  },
  {
   "cell_type": "markdown",
   "id": "22e2fd47-49cf-403e-b9fc-2ae86d3c1be6",
   "metadata": {},
   "source": [
    "Tło: \\\n",
    "Dysponujesz rocznymi dochodami 11 osób z USA (w dolarach) i 11 osób z Danii (w koronach). Masz średni dochód dla USA z poprzednich ćwiczeń.\n",
    "\n",
    "Zadanie 1: \\\n",
    "Zdecyduj, czy powinieneś użyć wzoru dla próby, czy dla populacji do obliczenia odchylenia standardowego i współczynnika zmienności.\n",
    "\n",
    "Zadanie 2: \\\n",
    "Oblicz odchylenie standardowe dochodów w USA i Danii. \\\n",
    "Wskazówka: Zacznij od obliczenia średniej i wariancji.\n",
    "\n",
    "Zadanie 3: \\\n",
    "Oblicz współczynnik zmienności dochodów w USA i Danii.\n",
    "\n",
    "Zadanie 4: \\\n",
    "Spróbuj zinterpretować uzyskane liczby."
   ]
  },
  {
   "cell_type": "code",
   "execution_count": 1,
   "id": "aac687e5-9f24-46ae-9305-84b8fddf581f",
   "metadata": {},
   "outputs": [],
   "source": [
    "usa_income = [\n",
    "    62000,\n",
    "    64000,\n",
    "    49000,\n",
    "    324000,\n",
    "    1264000,\n",
    "    54330,\n",
    "    64000,\n",
    "    51000,\n",
    "    55000,\n",
    "    48000,\n",
    "    53000\n",
    "]"
   ]
  },
  {
   "cell_type": "code",
   "execution_count": 3,
   "id": "3a4d5b7a-c708-4d83-9959-dc00e390ba04",
   "metadata": {},
   "outputs": [],
   "source": [
    "denmark_income = [\n",
    "    462852.37,\n",
    "    470317.73,\n",
    "    567367.42,\n",
    "    589763.50,\n",
    "    500179.17,\n",
    "    492713.81,\n",
    "    515109.89,\n",
    "    507644.53,\n",
    "    425525.56,\n",
    "    522575.25,\n",
    "    500179.17\n",
    "]"
   ]
  }
 ],
 "metadata": {
  "kernelspec": {
   "display_name": "Python 3 (ipykernel)",
   "language": "python",
   "name": "python3"
  },
  "language_info": {
   "codemirror_mode": {
    "name": "ipython",
    "version": 3
   },
   "file_extension": ".py",
   "mimetype": "text/x-python",
   "name": "python",
   "nbconvert_exporter": "python",
   "pygments_lexer": "ipython3",
   "version": "3.12.4"
  }
 },
 "nbformat": 4,
 "nbformat_minor": 5
}
