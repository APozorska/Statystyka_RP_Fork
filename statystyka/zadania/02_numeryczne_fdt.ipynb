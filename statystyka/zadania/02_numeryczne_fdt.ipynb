{
 "cells": [
  {
   "cell_type": "markdown",
   "id": "43a57060-50ad-4ab6-8e47-6719dca99da0",
   "metadata": {},
   "source": [
    "### 2. Dane numeryczne - tabela rozkładu częstości"
   ]
  },
  {
   "cell_type": "markdown",
   "id": "92bb3284-0f53-488e-af09-96661a826b91",
   "metadata": {},
   "source": [
    "Tło: \\\n",
    "Dysponujesz zestawem danych.\n",
    "\n",
    "Zadanie 1: \\\n",
    "Chcemy podzielić zbiór na 6 przedziałów o równej szerokości, oblicz tę szerokość przedziału. Zaokrąglij w górę do najbliższej liczby całkowitej, większej niż uzyskany wynik.\n",
    "\n",
    "Zadanie 2: \\\n",
    "Utwórz tabelę rozkładu częstości, która pokazuje:\n",
    "- Przedziały\n",
    "- Częstość absolutną dla każdego przedziału\n",
    "- Częstość względną dla każdego przedziału\n",
    "\n",
    "Zadanie 3: \\\n",
    "Powtórz zadania 1 i 2, ale tym razem użyj dokładnej szerokości przedziału. Nie zaokrąglaj do najbliższej liczby całkowitej."
   ]
  },
  {
   "cell_type": "code",
   "execution_count": 2,
   "id": "abbf2d35-1a02-4ce5-ad3a-3109d4525faf",
   "metadata": {},
   "outputs": [],
   "source": [
    "data = [\n",
    "    8,\n",
    "    30,\n",
    "    30,\n",
    "    54,\n",
    "    86,\n",
    "    94,\n",
    "    102,\n",
    "    110,\n",
    "    169,\n",
    "    170,\n",
    "    176,\n",
    "    236,\n",
    "    240,\n",
    "    241,\n",
    "    242,\n",
    "    255,\n",
    "    262,\n",
    "    276,\n",
    "    279,\n",
    "    282,\n",
    "]"
   ]
  }
 ],
 "metadata": {
  "kernelspec": {
   "display_name": "Python 3 (ipykernel)",
   "language": "python",
   "name": "python3"
  },
  "language_info": {
   "codemirror_mode": {
    "name": "ipython",
    "version": 3
   },
   "file_extension": ".py",
   "mimetype": "text/x-python",
   "name": "python",
   "nbconvert_exporter": "python",
   "pygments_lexer": "ipython3",
   "version": "3.12.4"
  }
 },
 "nbformat": 4,
 "nbformat_minor": 5
}
