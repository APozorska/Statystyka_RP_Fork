{
 "cells": [
  {
   "cell_type": "markdown",
   "id": "d9d2b885-c11f-45d7-8956-b0158724b036",
   "metadata": {},
   "source": [
    "### 10. Kowariancja"
   ]
  },
  {
   "cell_type": "markdown",
   "id": "19358cfa-3f11-46a6-a442-4cf14fe8ae1a",
   "metadata": {},
   "source": [
    "Tło: \\\n",
    "Dysponujesz danymi kilku uczniów dotyczącymi wyników z egzaminu z czytania i z egzaminu z pisania.\n",
    "\n",
    "Zadanie 1: \\\n",
    "Określ, czy jest to próba, czy cała populacja.\n",
    "\n",
    "Zadanie 2: \\\n",
    "Oblicz kowariancję dla tych dwóch zbiorów danych.\n",
    "\n",
    "Zadanie 3: \\\n",
    "Narysuj dane na wykresie punktowym i, korzystając z wcześniejszej wiedzy, skomentuj, czy istnieje zauważalny związek między tymi dwiema zmiennymi.\n",
    "\n",
    "Zadanie 4: \\\n",
    "Oblicz współczynnik korelacji Pearsona dla tych dwóch zbiorów danych.\n",
    "\n",
    "Zadanie 5: \\\n",
    "Przedyskutuj siłę korelacji między tymi dwoma zbiorami danych."
   ]
  },
  {
   "cell_type": "code",
   "execution_count": 1,
   "id": "eaee6d11-8e6a-4c46-961b-9f81e44b813d",
   "metadata": {},
   "outputs": [],
   "source": [
    "writing_scores = [\n",
    "    344,\n",
    "    383,\n",
    "    611,\n",
    "    713,\n",
    "    536\n",
    "]"
   ]
  },
  {
   "cell_type": "code",
   "execution_count": 3,
   "id": "6fd7c69e-93ff-4779-a136-4d7886f90f47",
   "metadata": {},
   "outputs": [],
   "source": [
    "reading_scores = [\n",
    "    378,\n",
    "    349,\n",
    "    503,\n",
    "    719,\n",
    "    503\n",
    "]"
   ]
  }
 ],
 "metadata": {
  "kernelspec": {
   "display_name": "Python 3 (ipykernel)",
   "language": "python",
   "name": "python3"
  },
  "language_info": {
   "codemirror_mode": {
    "name": "ipython",
    "version": 3
   },
   "file_extension": ".py",
   "mimetype": "text/x-python",
   "name": "python",
   "nbconvert_exporter": "python",
   "pygments_lexer": "ipython3",
   "version": "3.12.4"
  }
 },
 "nbformat": 4,
 "nbformat_minor": 5
}
