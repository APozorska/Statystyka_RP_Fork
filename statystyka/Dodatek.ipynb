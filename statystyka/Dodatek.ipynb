{
 "cells": [
  {
   "cell_type": "markdown",
   "id": "abba7ed7-eb1e-458e-b23f-5430ffe0bcfc",
   "metadata": {},
   "source": [
    "## Kwantyle"
   ]
  },
  {
   "cell_type": "markdown",
   "id": "50ddf935-f3ef-400b-abc6-b78d19385a26",
   "metadata": {},
   "source": [
    "Kwantyle to punkty dzielące rozkład danych na równe części. Są to wartości, które dzielą uporządkowane dane na podzbiory, gdzie każdy podzbiór ma taką samą liczbę elementów. Najczęściej spotykane kwantyle to:\n",
    "\n",
    "- Mediana (kwantyl rzędu 50%) (**ang. median**) – dzieli dane na dwie równe części. Jest to wartość środkowa w zbiorze danych, gdy dane są uporządkowane rosnąco.\n",
    "- Kwartyle (**ang. quartile**) – dzielą dane na cztery równe części:\n",
    "    - Q1 (pierwszy kwartyl) – wartość, poniżej której znajduje się 25% danych.\n",
    "    - Q2 (drugi kwartyl) – mediana (50% danych leży poniżej tej wartości).\n",
    "    - Q3 (trzeci kwartyl) – wartość, poniżej której znajduje się 75% danych.\n",
    "- Decyle (**ang. deciles**) – dzielą dane na 10 równych części, a każdy decyl to punkt dzielący 10% danych.\n",
    "- Percentyle (**ang. percentiles**) – dzielą dane na 100 równych części."
   ]
  },
  {
   "cell_type": "markdown",
   "id": "9013898a-d3cd-4617-b48e-2107df8f4675",
   "metadata": {},
   "source": [
    "Pojęcia powiązane z kwantylami:\n",
    "- 90. percentyl (**ang. 90th percentile**): Punkt, poniżej którego znajduje się 90% danych.\n",
    "- Rozstęp międzykwartylowy (**ang. Interquartile Range, IQR**) różnica pomiędzy trzecim a pierwszym kwartylem (Q3 - Q1). Daje informację o rozproszeniu danych, szczególnie w kontekście wykrywania wartości odstających."
   ]
  },
  {
   "cell_type": "markdown",
   "id": "f7ab9f57-391d-43da-aafa-da07698bab28",
   "metadata": {},
   "source": [
    "Zróbmy przykład"
   ]
  },
  {
   "cell_type": "code",
   "execution_count": null,
   "id": "732da6fe-99c5-4279-b54d-866a0e517dd9",
   "metadata": {},
   "outputs": [],
   "source": [
    "# Dane\n",
    "import numpy as np\n",
    "import pandas as pd\n",
    "\n",
    "# Przykładowe dane\n",
    "data = [15, 20, 35, 40, 50, 60, 70, 80, 85, 90, 95, 100]"
   ]
  },
  {
   "cell_type": "code",
   "execution_count": null,
   "id": "2d6775c6-4116-45bd-a1a9-f5273b152ead",
   "metadata": {},
   "outputs": [],
   "source": [
    "# Obliczanie kwantyli w numpy\n",
    "q1 = np.percentile(data, 25)  # Pierwszy kwartyl (25%)\n",
    "q2 = np.percentile(data, 50)  # Mediana (50%)\n",
    "q3 = np.percentile(data, 75)  # Trzeci kwartyl (75%)\n",
    "q90 = np.percentile(data, 90) # 90. percentyl\n",
    "\n",
    "print(f\"Q1 (25%): {q1}\")\n",
    "print(f\"Q2 (50% - Mediana): {q2}\")\n",
    "print(f\"Q3 (75%): {q3}\")\n",
    "print(f\"90. Percentyl: {q90}\")"
   ]
  },
  {
   "cell_type": "code",
   "execution_count": null,
   "id": "4a9ebb9a-60a2-4081-bce2-63a1fede0ac0",
   "metadata": {},
   "outputs": [],
   "source": [
    "# Obliczanie kwantyli w pandas\n",
    "df = pd.DataFrame(data, columns=[\"Ceny\"])\n",
    "quartiles = df[\"Ceny\"].quantile([0.25, 0.5, 0.75])  # Q1, Q2, Q3\n",
    "print(\"\\nKwartyle w pandas:\")\n",
    "print(quartiles)"
   ]
  },
  {
   "cell_type": "code",
   "execution_count": null,
   "id": "4d5699a5-49b4-4983-883c-a835015749c3",
   "metadata": {},
   "outputs": [],
   "source": [
    "# Zbieranie szczegółowych informacji\n",
    "iqr = q3 - q1  # Rozstęp międzykwartylowy (Interquartile Range)\n",
    "print(f\"\\nRozstęp międzykwartylowy (IQR): {iqr}\")"
   ]
  },
  {
   "cell_type": "markdown",
   "id": "1d7eeea3-4e1a-45ff-bdb5-ae1fdf469110",
   "metadata": {},
   "source": [
    "## Wykres skrzynkowy"
   ]
  },
  {
   "cell_type": "markdown",
   "id": "82f12784-760b-400c-bbf3-0f6623774bcb",
   "metadata": {},
   "source": [
    "Wykres skrzynkowy aka wykres pudełkowy (ang. box plot) jest rodzajem wykresu używanym do przedstawienia rozkładu danych. Pomaga w identyfikowaniu podstawowych statystyk, takich jak:\n",
    "\n",
    "Mediana (środkowa wartość),\n",
    "Kwartyle (1. kwartyl – Q1, 3. kwartyl – Q3),\n",
    "Rozstęp międzykwartylowy (IQR), który mierzy szerokość pudełka,\n",
    "Wartości odstające (outliers), czyli dane wykraczające poza przyjęty zakres."
   ]
  },
  {
   "cell_type": "markdown",
   "id": "d267c3ee-d9da-46bf-92e2-23fd0f5db846",
   "metadata": {},
   "source": [
    "Spójrzmy na przykład"
   ]
  },
  {
   "cell_type": "code",
   "execution_count": null,
   "id": "ea96f569-7aa8-4199-a20e-9420d783e6fe",
   "metadata": {},
   "outputs": [],
   "source": [
    "import matplotlib.pyplot as plt\n",
    "import numpy as np\n",
    "import seaborn as sns\n",
    "\n",
    "# Generowanie przykładowych danych\n",
    "np.random.seed(10)\n",
    "data = np.random.normal(loc=0, scale=1, size=100)  # Rozkład normalny\n",
    "\n",
    "# Tworzenie wykresu skrzynkowego\n",
    "plt.figure(figsize=(8, 6))\n",
    "sns.boxplot(data=data, color=\"skyblue\")\n",
    "\n",
    "# Dodanie tytułu i etykiet\n",
    "plt.title(\"Wykres skrzynkowy (Pudełkowy) - Przykład\", fontsize=16)\n",
    "plt.xlabel(\"Dane\", fontsize=12)\n",
    "plt.ylabel(\"Wartości\", fontsize=12)\n",
    "\n",
    "# Wyświetlanie wykresu\n",
    "plt.show()"
   ]
  },
  {
   "cell_type": "markdown",
   "id": "35861fbb-7d67-43de-bac0-6d0d98c6b70f",
   "metadata": {},
   "source": [
    "Elementami wykresu są:\n",
    "\n",
    "- Pudełko (ang. box): pokazuje rozstęp między pierwszym a trzecim kwartylem (IQR), który obejmuje 50% danych. Mediana (Q2) znajduje się w środku pudełka, pokazując wartość środkową rozkładu.\n",
    "\n",
    "- Wąsy (ang. whiskers): rozciągają się od pudełka do wartości minimalnej i maksymalnej, o ile te wartości są w ramach dozwolonego zakresu. Zwykle ustala się, że wąsy rozciągają się do wartości, które są w granicach $1,5\\times\\text{IQR}$ od kwartylu\n",
    "\n",
    "- Wartości odstające (ang. outliers): dane, które leżą poza zakresami wyznaczonymi przez wąsy. Mogą być one wskazane jako punkty na wykresie."
   ]
  },
  {
   "cell_type": "markdown",
   "id": "698d2c06-8578-45f3-9e89-2c581faff11a",
   "metadata": {},
   "source": [
    "Zastosowanie wykresu skrzynkowego:\n",
    "- porównanie rozkładów dla różnych grup danych\n",
    "- wykrywanie wartości odstających\n",
    "- podstawowa analiza rozkładu (np. symetryczność, skośność)"
   ]
  }
 ],
 "metadata": {
  "kernelspec": {
   "display_name": "Python 3 (ipykernel)",
   "language": "python",
   "name": "python3"
  },
  "language_info": {
   "codemirror_mode": {
    "name": "ipython",
    "version": 3
   },
   "file_extension": ".py",
   "mimetype": "text/x-python",
   "name": "python",
   "nbconvert_exporter": "python",
   "pygments_lexer": "ipython3",
   "version": "3.12.4"
  }
 },
 "nbformat": 4,
 "nbformat_minor": 5
}
